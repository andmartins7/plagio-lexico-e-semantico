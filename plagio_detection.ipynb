{
  "nbformat": 4,
  "nbformat_minor": 0,
  "metadata": {
    "colab": {
      "provenance": [],
      "authorship_tag": "ABX9TyPlB/UOw4Li1HIiqM6J+s8L",
      "include_colab_link": true
    },
    "kernelspec": {
      "name": "python3",
      "display_name": "Python 3"
    },
    "language_info": {
      "name": "python"
    }
  },
  "cells": [
    {
      "cell_type": "markdown",
      "metadata": {
        "id": "view-in-github",
        "colab_type": "text"
      },
      "source": [
        "<a href=\"https://colab.research.google.com/github/andmartins7/plagio-lexico-e-semantico/blob/main/plagio_detection.ipynb\" target=\"_parent\"><img src=\"https://colab.research.google.com/assets/colab-badge.svg\" alt=\"Open In Colab\"/></a>"
      ]
    },
    {
      "cell_type": "code",
      "source": [
        "import random\n",
        "import re\n",
        "import nltk\n",
        "from sklearn.feature_extraction.text import TfidfVectorizer\n",
        "from sklearn.metrics.pairwise import cosine_similarity\n",
        "from transformers import pipeline\n",
        "import numpy as np\n",
        "nltk.download('punkt')"
      ],
      "metadata": {
        "colab": {
          "base_uri": "https://localhost:8080/"
        },
        "id": "pAQhcmTcUUBe",
        "outputId": "4fc5b6cf-a04e-4329-8425-7f4b2c6dff22"
      },
      "execution_count": null,
      "outputs": [
        {
          "output_type": "stream",
          "name": "stderr",
          "text": [
            "[nltk_data] Downloading package punkt to /root/nltk_data...\n",
            "[nltk_data]   Package punkt is already up-to-date!\n"
          ]
        },
        {
          "output_type": "execute_result",
          "data": {
            "text/plain": [
              "True"
            ]
          },
          "metadata": {},
          "execution_count": 1
        }
      ]
    },
    {
      "cell_type": "code",
      "source": [
        "# Texto Original - Base\n",
        "texto_original = \"\"\"\n",
        "A administração é uma arte e ciência vital para o sucesso e sustentabilidade de qualquer organização. Ao explorar os conceitos fundamentais de administração e organização, entendemos que a administração é o processo de planejar, organizar, liderar e controlar recursos para alcançar objetivos definidos, enquanto a organização é um conjunto de pessoas trabalhando juntas em uma estrutura formal para alcançar metas comuns.\n",
        "\n",
        "No contexto brasileiro, a administração enfrenta desafios específicos, como a alta carga tributária, os elevados custos de financiamento, a burocracia exacerbada, a instabilidade política e econômica, a desigualdade social e as deficiências de infraestrutura.\n",
        "\"\"\""
      ],
      "metadata": {
        "id": "TnauCmcwUXgE"
      },
      "execution_count": null,
      "outputs": []
    },
    {
      "cell_type": "code",
      "source": [
        "# Geração de Exemplos de Plágio Léxico\n",
        "def gerar_plagio_lexico(texto, n=3):\n",
        "    frases = nltk.sent_tokenize(texto)\n",
        "    exemplos = []\n",
        "    for _ in range(n):\n",
        "        exemplo = random.sample(frases, len(frases))  # Rearranjo das frases\n",
        "        exemplos.append(\" \".join(exemplo))\n",
        "    return exemplos\n",
        "\n",
        "plagios_lexicos = gerar_plagio_lexico(texto_original)\n",
        "print(\"Exemplos de Plágio Léxico:\")\n",
        "for exemplo in plagios_lexicos:\n",
        "    print(exemplo)\n",
        "    print(\"-\"*80)"
      ],
      "metadata": {
        "colab": {
          "base_uri": "https://localhost:8080/"
        },
        "id": "kjN_jmnLUai0",
        "outputId": "6e62f62a-486d-4d54-bd62-d4481b5b216d"
      },
      "execution_count": null,
      "outputs": [
        {
          "output_type": "stream",
          "name": "stdout",
          "text": [
            "Exemplos de Plágio Léxico:\n",
            "No contexto brasileiro, a administração enfrenta desafios específicos, como a alta carga tributária, os elevados custos de financiamento, a burocracia exacerbada, a instabilidade política e econômica, a desigualdade social e as deficiências de infraestrutura. Ao explorar os conceitos fundamentais de administração e organização, entendemos que a administração é o processo de planejar, organizar, liderar e controlar recursos para alcançar objetivos definidos, enquanto a organização é um conjunto de pessoas trabalhando juntas em uma estrutura formal para alcançar metas comuns. \n",
            "A administração é uma arte e ciência vital para o sucesso e sustentabilidade de qualquer organização.\n",
            "--------------------------------------------------------------------------------\n",
            "Ao explorar os conceitos fundamentais de administração e organização, entendemos que a administração é o processo de planejar, organizar, liderar e controlar recursos para alcançar objetivos definidos, enquanto a organização é um conjunto de pessoas trabalhando juntas em uma estrutura formal para alcançar metas comuns. No contexto brasileiro, a administração enfrenta desafios específicos, como a alta carga tributária, os elevados custos de financiamento, a burocracia exacerbada, a instabilidade política e econômica, a desigualdade social e as deficiências de infraestrutura. \n",
            "A administração é uma arte e ciência vital para o sucesso e sustentabilidade de qualquer organização.\n",
            "--------------------------------------------------------------------------------\n",
            "No contexto brasileiro, a administração enfrenta desafios específicos, como a alta carga tributária, os elevados custos de financiamento, a burocracia exacerbada, a instabilidade política e econômica, a desigualdade social e as deficiências de infraestrutura. \n",
            "A administração é uma arte e ciência vital para o sucesso e sustentabilidade de qualquer organização. Ao explorar os conceitos fundamentais de administração e organização, entendemos que a administração é o processo de planejar, organizar, liderar e controlar recursos para alcançar objetivos definidos, enquanto a organização é um conjunto de pessoas trabalhando juntas em uma estrutura formal para alcançar metas comuns.\n",
            "--------------------------------------------------------------------------------\n"
          ]
        }
      ]
    },
    {
      "cell_type": "code",
      "source": [
        "# Geração de Exemplos de Plágio Semântico com Transformers (Paráfrases)\n",
        "paraphrase_pipeline = pipeline(\"summarization\", model=\"tuner007/pegasus_paraphrase\")\n",
        "\n",
        "def gerar_plagio_semantico(texto, n=3):\n",
        "    frases = nltk.sent_tokenize(texto)\n",
        "    exemplos = []\n",
        "    for frase in frases:\n",
        "        # Limitar o tamanho da frase para evitar problemas de comprimento\n",
        "        if len(frase.split()) > 50:\n",
        "            frase = \" \".join(frase.split()[:50])\n",
        "        paraphrases = paraphrase_pipeline(frase, num_return_sequences=n, max_length=60, truncation=True)\n",
        "        exemplos.extend([p['summary_text'] for p in paraphrases])\n",
        "    return exemplos\n",
        "\n",
        "plagios_semanticos = gerar_plagio_semantico(texto_original, n=1)\n",
        "print(\"\\nExemplos de Plágio Semântico:\")\n",
        "for exemplo in plagios_semanticos:\n",
        "    print(exemplo)\n",
        "    print(\"-\"*80)"
      ],
      "metadata": {
        "colab": {
          "base_uri": "https://localhost:8080/"
        },
        "id": "13LkRq0rUdbN",
        "outputId": "fd01f1bb-04d0-402a-a7d8-1b9418490657"
      },
      "execution_count": null,
      "outputs": [
        {
          "output_type": "stream",
          "name": "stderr",
          "text": [
            "/usr/local/lib/python3.10/dist-packages/huggingface_hub/utils/_token.py:89: UserWarning: \n",
            "The secret `HF_TOKEN` does not exist in your Colab secrets.\n",
            "To authenticate with the Hugging Face Hub, create a token in your settings tab (https://huggingface.co/settings/tokens), set it as secret in your Google Colab and restart your session.\n",
            "You will be able to reuse this secret in all of your notebooks.\n",
            "Please note that authentication is recommended but still optional to access public models or datasets.\n",
            "  warnings.warn(\n",
            "Some weights of PegasusForConditionalGeneration were not initialized from the model checkpoint at tuner007/pegasus_paraphrase and are newly initialized: ['model.decoder.embed_positions.weight', 'model.encoder.embed_positions.weight']\n",
            "You should probably TRAIN this model on a down-stream task to be able to use it for predictions and inference.\n",
            "/usr/local/lib/python3.10/dist-packages/transformers/tokenization_utils_base.py:1601: FutureWarning: `clean_up_tokenization_spaces` was not set. It will be set to `True` by default. This behavior will be depracted in transformers v4.45, and will be then set to `False` by default. For more details check this issue: https://github.com/huggingface/transformers/issues/31884\n",
            "  warnings.warn(\n",
            "Your max_length is set to 60, but your input_length is only 32. Since this is a summarization task, where outputs shorter than the input are typically wanted, you might consider decreasing max_length manually, e.g. summarizer('...', max_length=16)\n"
          ]
        },
        {
          "output_type": "stream",
          "name": "stdout",
          "text": [
            "\n",
            "Exemplos de Plágio Semântico:\n",
            "A cincia vital para o sucesso is a administrao.\n",
            "--------------------------------------------------------------------------------\n",
            "A administrao é o processo de planejar, liderar, and controlar recursos.\n",
            "--------------------------------------------------------------------------------\n",
            "No contexto brasileiro, a administrao enfrenta desafios especficos.\n",
            "--------------------------------------------------------------------------------\n"
          ]
        }
      ]
    },
    {
      "cell_type": "code",
      "source": [
        "# Criação do Vetor TF-IDF para Detecção de Similaridade Léxica\n",
        "todos_textos = [texto_original] + plagios_lexicos + plagios_semanticos\n",
        "vectorizer = TfidfVectorizer()\n",
        "X = vectorizer.fit_transform(todos_textos)\n",
        "\n",
        "# Similaridade de Coseno\n",
        "def detectar_plagio_lexico(tfidf_matrix, idx_base=0):\n",
        "    similaridades = cosine_similarity(tfidf_matrix[idx_base], tfidf_matrix)\n",
        "    return similaridades\n",
        "\n",
        "similaridades = detectar_plagio_lexico(X)\n",
        "print(\"\\nMatriz de Similaridade (Léxico):\")\n",
        "print(similaridades)"
      ],
      "metadata": {
        "colab": {
          "base_uri": "https://localhost:8080/"
        },
        "id": "un_nQOTGUgfE",
        "outputId": "397b93e6-45cd-414d-fa0a-bc779bfe5ce7"
      },
      "execution_count": null,
      "outputs": [
        {
          "output_type": "stream",
          "name": "stdout",
          "text": [
            "\n",
            "Matriz de Similaridade (Léxico):\n",
            "[[1.         1.         1.         1.         0.11608904 0.26031589\n",
            "  0.12401014]]\n"
          ]
        }
      ]
    },
    {
      "cell_type": "code",
      "source": [
        "# Avaliação do Modelo - Similaridade Semântica\n",
        "# Comparação dos textos originais vs parafraseados utilizando embeddings de transformers\n",
        "similarity_pipeline = pipeline(\"feature-extraction\", model=\"sentence-transformers/paraphrase-MiniLM-L6-v2\")\n",
        "\n",
        "def calcular_similaridade_semantica(texto1, texto2):\n",
        "    embedding1 = np.mean(similarity_pipeline(texto1)[0], axis=0)\n",
        "    embedding2 = np.mean(similarity_pipeline(texto2)[0], axis=0)\n",
        "    similarity = cosine_similarity([embedding1], [embedding2])\n",
        "    return similarity[0][0]\n",
        "\n",
        "for idx, texto in enumerate(plagios_semanticos):\n",
        "    similaridade = calcular_similaridade_semantica(texto_original, texto)\n",
        "    print(f\"Similaridade Semântica do Texto Original com Plágio Semântico {idx+1}: {similaridade}\")"
      ],
      "metadata": {
        "colab": {
          "base_uri": "https://localhost:8080/"
        },
        "id": "fw57jj53Ur77",
        "outputId": "7e50507d-c167-4651-aa64-8ce0427f219f"
      },
      "execution_count": null,
      "outputs": [
        {
          "output_type": "stream",
          "name": "stdout",
          "text": [
            "Similaridade Semântica do Texto Original com Plágio Semântico 1: 0.548324893173118\n",
            "Similaridade Semântica do Texto Original com Plágio Semântico 2: 0.4554246361900737\n",
            "Similaridade Semântica do Texto Original com Plágio Semântico 3: 0.6066716057703003\n"
          ]
        }
      ]
    },
    {
      "cell_type": "code",
      "execution_count": null,
      "metadata": {
        "colab": {
          "base_uri": "https://localhost:8080/"
        },
        "id": "idNos5jjTkXQ",
        "outputId": "cbcb9f4b-b42b-4471-fc8c-aa63754a89b4"
      },
      "outputs": [
        {
          "output_type": "stream",
          "name": "stdout",
          "text": [
            "\n",
            "A matriz de similaridade e os valores de similaridade semântica indicam quais textos foram plagiados e com qual intensidade, permitindo uma análise clara de plágio léxico e semântico.\n"
          ]
        }
      ],
      "source": [
        "# Resultados e Conclusões\n",
        "print(\"\\nA matriz de similaridade e os valores de similaridade semântica indicam quais textos foram plagiados e com qual intensidade, permitindo uma análise clara de plágio léxico e semântico.\")"
      ]
    }
  ]
}