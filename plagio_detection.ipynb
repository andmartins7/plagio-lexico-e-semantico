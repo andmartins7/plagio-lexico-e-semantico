{
  "nbformat": 4,
  "nbformat_minor": 0,
  "metadata": {
    "colab": {
      "provenance": [],
      "authorship_tag": "ABX9TyPlB/UOw4Li1HIiqM6J+s8L",
      "include_colab_link": true
    },
    "kernelspec": {
      "name": "python3",
      "display_name": "Python 3"
    },
    "language_info": {
      "name": "python"
    }
  },
  "cells": [
    {
      "cell_type": "markdown",
      "metadata": {
        "id": "view-in-github",
        "colab_type": "text"
      },
      "source": [
        "<a href=\"https://colab.research.google.com/github/andmartins7/plagio-lexico-e-semantico/blob/main/plagio_detection.ipynb\" target=\"_parent\"><img src=\"https://colab.research.google.com/assets/colab-badge.svg\" alt=\"Open In Colab\"/></a>"
      ]
    },
    {
      "cell_type": "code",
      "source": [
        "import random\n",
        "import re\n",
        "import nltk\n",
        "from sklearn.feature_extraction.text import TfidfVectorizer\n",
        "from sklearn.metrics.pairwise import cosine_similarity\n",
        "from transformers import pipeline\n",
        "import numpy as np\n",
        "nltk.download('punkt')"
      ],
      "metadata": {
        "colab": {
          "base_uri": "https://localhost:8080/"
        },
        "id": "pAQhcmTcUUBe"
      },
      "execution_count": null,
      "outputs": []
    },
    {
      "cell_type": "code",
      "source": [
        "# Texto Original - Base\n",
        "texto_original = \"\"\"\n",
        "A administração é uma arte e ciência vital para o sucesso e sustentabilidade de qualquer organização. Ao explorar os conceitos fundamentais de administração e organização, entendemos que a administração é o processo de planejar, organizar, liderar e controlar recursos para alcançar objetivos definidos, enquanto a organização é um conjunto de pessoas trabalhando juntas em uma estrutura formal para alcançar metas comuns.\n",
        "\n",
        "No contexto brasileiro, a administração enfrenta desafios específicos, como a alta carga tributária, os elevados custos de financiamento, a burocracia exacerbada, a instabilidade política e econômica, a desigualdade social e as deficiências de infraestrutura.\n",
        "\"\"\""
      ],
      "metadata": {
        "id": "TnauCmcwUXgE"
      },
      "execution_count": null,
      "outputs": []
    },
    {
      "cell_type": "code",
      "source": [
        "# Geração de Exemplos de Plágio Léxico\n",
        "def gerar_plagio_lexico(texto, n=3):\n",
        "    frases = nltk.sent_tokenize(texto, language=\"portuguese\")\n",
        "    exemplos = []\n",
        "    for _ in range(n):\n",
        "        exemplo = random.sample(frases, len(frases))  # Rearranjo das frases\n",
        "        exemplos.append(\" \".join(exemplo))\n",
        "    return exemplos\n",
        "\n",
        "plagios_lexicos = gerar_plagio_lexico(texto_original)\n",
        "print(\"Exemplos de Plágio Léxico:\")\n",
        "for exemplo in plagios_lexicos:\n",
        "    print(exemplo)\n",
        "    print(\"-\"*80)"
      ],
      "metadata": {
        "colab": {
          "base_uri": "https://localhost:8080/"
        },
        "id": "kjN_jmnLUai0"
      },
      "execution_count": null,
      "outputs": []
    },
    {
      "cell_type": "code",
      "source": [
        "# Geração de Exemplos de Plágio Semântico com Transformers (Paráfrases)\n",
        "paraphrase_pipeline = pipeline(\"summarization\", model=\"tuner007/pegasus_paraphrase\")\n",
        "\n",
        "def gerar_plagio_semantico(texto, n=3):\n",
        "    frases = nltk.sent_tokenize(texto, language=\"portuguese\")\n",
        "    exemplos = []\n",
        "    for frase in frases:\n",
        "        # Limitar o tamanho da frase para evitar problemas de comprimento\n",
        "        if len(frase.split()) > 50:\n",
        "            frase = \" \".join(frase.split()[:50])\n",
        "        paraphrases = paraphrase_pipeline(frase, num_return_sequences=n, max_length=60, truncation=True)\n",
        "        exemplos.extend([p['summary_text'] for p in paraphrases])\n",
        "    return exemplos\n",
        "\n",
        "plagios_semanticos = gerar_plagio_semantico(texto_original, n=1)\n",
        "print(\"\\nExemplos de Plágio Semântico:\")\n",
        "for exemplo in plagios_semanticos:\n",
        "    print(exemplo)\n",
        "    print(\"-\"*80)"
      ],
      "metadata": {
        "colab": {
          "base_uri": "https://localhost:8080/"
        },
        "id": "13LkRq0rUdbN"
      },
      "execution_count": null,
      "outputs": []
    },
    {
      "cell_type": "code",
      "source": [
        "# Criação do Vetor TF-IDF para Detecção de Similaridade Léxica\n",
        "todos_textos = [texto_original] + plagios_lexicos + plagios_semanticos\n",
        "vectorizer = TfidfVectorizer()\n",
        "X = vectorizer.fit_transform(todos_textos)\n",
        "\n",
        "# Similaridade de Coseno\n",
        "def detectar_plagio_lexico(tfidf_matrix, idx_base=0):\n",
        "    similaridades = cosine_similarity(tfidf_matrix[idx_base], tfidf_matrix)\n",
        "    return similaridades\n",
        "\n",
        "similaridades = detectar_plagio_lexico(X)\n",
        "print(\"\\nMatriz de Similaridade (Léxico):\")\n",
        "print(similaridades)"
      ],
      "metadata": {
        "colab": {
          "base_uri": "https://localhost:8080/"
        },
        "id": "un_nQOTGUgfE"
      },
      "execution_count": null,
      "outputs": []
    },
    {
      "cell_type": "code",
      "source": [
        "# Avaliação do Modelo - Similaridade Semântica\n",
        "# Comparação dos textos originais vs parafraseados utilizando embeddings de transformers\n",
        "similarity_pipeline = pipeline(\"feature-extraction\", model=\"sentence-transformers/paraphrase-MiniLM-L6-v2\")\n",
        "\n",
        "def calcular_similaridade_semantica(texto1, texto2):\n",
        "    embedding1 = np.mean(similarity_pipeline(texto1)[0], axis=0)\n",
        "    embedding2 = np.mean(similarity_pipeline(texto2)[0], axis=0)\n",
        "    similarity = cosine_similarity([embedding1], [embedding2])\n",
        "    return similarity[0][0]\n",
        "\n",
        "for idx, texto in enumerate(plagios_semanticos):\n",
        "    similaridade = calcular_similaridade_semantica(texto_original, texto)\n",
        "    print(f\"Similaridade Semântica do Texto Original com Plágio Semântico {idx+1}: {similaridade}\")"
      ],
      "metadata": {
        "colab": {
          "base_uri": "https://localhost:8080/"
        },
        "id": "fw57jj53Ur77"
      },
      "execution_count": null,
      "outputs": []
    },
    {
      "cell_type": "code",
      "execution_count": null,
      "metadata": {
        "colab": {
          "base_uri": "https://localhost:8080/"
        },
        "id": "idNos5jjTkXQ"
      },
      "outputs": [],
      "source": [
        "# Resultados e Conclusões\n",
        "print(\"\\nA matriz de similaridade e os valores de similaridade semântica indicam quais textos foram plagiados e com qual intensidade, permitindo uma análise clara de plágio léxico e semântico.\")"
      ]
    }
  ]
}